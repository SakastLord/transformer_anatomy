{
 "cells": [
  {
   "cell_type": "code",
   "execution_count": 28,
   "metadata": {},
   "outputs": [],
   "source": [
    "from os import listdir\n",
    "from os.path import isfile, join\n",
    "import json\n",
    "import pandas as pd\n",
    "\n",
    "tasks = ['Length', 'WordContent', 'Depth', 'TopConstituents',\n",
    "         'BigramShift', 'Tense', 'SubjNumber', 'ObjNumber',\n",
    "         'OddManOut', 'CoordinationInversion', 'CR', 'MR', \n",
    "         'MPQA', 'SUBJ', 'SST2', 'SST5', \n",
    "         'TREC', 'MRPC', 'SNLI', 'SICKEntailment', \n",
    "         'SICKRelatedness', 'STSBenchmark', 'ImageCaptionRetrieval', 'STS12',\n",
    "         'STS13', 'STS14', 'STS15', 'STS16']\n",
    "\n",
    "def get_results(dir_path='./mlp_results'):\n",
    "    columns = ['data_path', 'cache_path', 'result_path', 'batch_size', 'cbatch_size', 'nhid', 'optim', 'kfold', 'tenacity', 'usepytorch', 'epoch_size', 'device']\n",
    "    filenames = [f for f in listdir(dir_path) if isfile(join(dir_path, f)) if '.json' in f]\n",
    "    list_result = []\n",
    "    for filename in filenames:\n",
    "        with open(join(dir_path, filename), 'r') as infile:\n",
    "#             print(filename)\n",
    "            results = json.load(infile)\n",
    "        for key, result in results.items():\n",
    "            result['task'] = tasks[result['task']]\n",
    "            \n",
    "            \n",
    "        with open(join(dir_path, filename), 'w') as outfile:\n",
    "            json.dump(results, outfile)\n",
    "          \n"
   ]
  },
  {
   "cell_type": "code",
   "execution_count": 29,
   "metadata": {},
   "outputs": [],
   "source": [
    "df = get_results(dir_path='./linear_head_wise_results')\n"
   ]
  },
  {
   "cell_type": "code",
   "execution_count": 18,
   "metadata": {},
   "outputs": [
    {
     "data": {
      "text/plain": [
       "0       0\n",
       "1       0\n",
       "2       0\n",
       "3       0\n",
       "4       0\n",
       "5       0\n",
       "6       0\n",
       "7       0\n",
       "8       0\n",
       "9       0\n",
       "10      0\n",
       "11      0\n",
       "12      0\n",
       "13      0\n",
       "14      0\n",
       "15      0\n",
       "16      0\n",
       "17      0\n",
       "18      0\n",
       "19      0\n",
       "20      0\n",
       "21      0\n",
       "22      0\n",
       "23      0\n",
       "24      0\n",
       "25      0\n",
       "26      0\n",
       "27      0\n",
       "28      0\n",
       "29      0\n",
       "       ..\n",
       "1582    7\n",
       "1583    7\n",
       "1584    7\n",
       "1585    7\n",
       "1586    7\n",
       "1587    7\n",
       "1588    7\n",
       "1589    7\n",
       "1590    7\n",
       "1591    7\n",
       "1592    7\n",
       "1593    7\n",
       "1594    6\n",
       "1595    6\n",
       "1596    6\n",
       "1597    6\n",
       "1598    6\n",
       "1599    6\n",
       "1600    6\n",
       "1601    6\n",
       "1602    6\n",
       "1603    6\n",
       "1604    6\n",
       "1605    6\n",
       "1606    6\n",
       "1607    6\n",
       "1608    6\n",
       "1609    6\n",
       "1610    6\n",
       "1611    6\n",
       "Name: task, Length: 1612, dtype: int64"
      ]
     },
     "execution_count": 18,
     "metadata": {},
     "output_type": "execute_result"
    }
   ],
   "source": [
    "df['task']"
   ]
  }
 ],
 "metadata": {
  "kernelspec": {
   "display_name": "Python (bert)",
   "language": "python",
   "name": "myenv"
  },
  "language_info": {
   "codemirror_mode": {
    "name": "ipython",
    "version": 3
   },
   "file_extension": ".py",
   "mimetype": "text/x-python",
   "name": "python",
   "nbconvert_exporter": "python",
   "pygments_lexer": "ipython3",
   "version": "3.7.1"
  }
 },
 "nbformat": 4,
 "nbformat_minor": 2
}
