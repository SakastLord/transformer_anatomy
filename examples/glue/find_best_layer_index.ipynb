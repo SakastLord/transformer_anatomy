{
 "cells": [
  {
   "cell_type": "code",
   "execution_count": 14,
   "metadata": {},
   "outputs": [
    {
     "output_type": "stream",
     "name": "stdout",
     "text": "The autoreload extension is already loaded. To reload it, use:\n  %reload_ext autoreload\n"
    }
   ],
   "source": [
    "%load_ext autoreload\n",
    "%autoreload 2\n"
   ]
  },
  {
   "cell_type": "code",
   "execution_count": 15,
   "metadata": {},
   "outputs": [],
   "source": [
    "from IPython.display import display, HTML\n",
    "import pandas as pd\n",
    "from os import listdir\n",
    "from os.path import isfile, join\n",
    "from pprint import pprint\n",
    "from tqdm import tqdm\n",
    "import json\n",
    "import io\n",
    "\n",
    "import seaborn as sns\n",
    "import matplotlib.pyplot as plt\n",
    "from matplotlib import gridspec\n",
    "from matplotlib.font_manager import FontProperties\n",
    "import numpy as np\n",
    "from scipy.spatial.distance import euclidean, pdist, squareform, cosine\n",
    "\n",
    "import numpy as np\n",
    "import matplotlib.pyplot as plt\n",
    "\n",
    "\n",
    "sns.set(style=\"ticks\")\n",
    "plt.rcParams['axes.facecolor']='white'\n",
    "task_order = ['Length',  'WordContent', 'Depth', 'TopConstituents', 'SubjNumber', 'ObjNumber', 'BigramShift', 'CoordinationInversion', 'OddManOut', 'Tense']\n",
    "dict_task = {0:'Length',  1:'WordContent', 2:'Depth', 3:'TopConstituents', 4:'BigramShift', 5:'Tense', 6:'SubjNumber', 7:'ObjNumber', 8:'OddManOut', 9:'CoordinationInversion'}"
   ]
  },
  {
   "cell_type": "code",
   "execution_count": 22,
   "metadata": {},
   "outputs": [
    {
     "output_type": "display_data",
     "data": {
      "text/plain": "        acc  head  layer  task         model_name location  devacc  devpearson\n5505  86.66    -1     10  SST2  bert-base-uncased       fc   86.70         NaN\n5506  87.10    -1     11  SST2  bert-base-uncased       fc   86.70         NaN\n5504  85.23    -1      9  SST2  bert-base-uncased       fc   86.01         NaN\n5503  84.13    -1      8  SST2  bert-base-uncased       fc   83.72         NaN\n5502  82.87    -1      7  SST2  bert-base-uncased       fc   82.91         NaN\n5500  79.90    -1      5  SST2  bert-base-uncased       fc   81.42         NaN\n5501  79.19    -1      6  SST2  bert-base-uncased       fc   80.73         NaN\n5497  74.14    -1      2  SST2  bert-base-uncased       fc   75.46         NaN\n5499  74.85    -1      4  SST2  bert-base-uncased       fc   75.34         NaN\n5498  73.81    -1      3  SST2  bert-base-uncased       fc   74.31         NaN\n5496  73.04    -1      1  SST2  bert-base-uncased       fc   74.20         NaN\n5495  69.08    -1      0  SST2  bert-base-uncased       fc   70.18         NaN",
      "text/html": "<div>\n<style scoped>\n    .dataframe tbody tr th:only-of-type {\n        vertical-align: middle;\n    }\n\n    .dataframe tbody tr th {\n        vertical-align: top;\n    }\n\n    .dataframe thead th {\n        text-align: right;\n    }\n</style>\n<table border=\"1\" class=\"dataframe\">\n  <thead>\n    <tr style=\"text-align: right;\">\n      <th></th>\n      <th>acc</th>\n      <th>head</th>\n      <th>layer</th>\n      <th>task</th>\n      <th>model_name</th>\n      <th>location</th>\n      <th>devacc</th>\n      <th>devpearson</th>\n    </tr>\n  </thead>\n  <tbody>\n    <tr>\n      <th>5505</th>\n      <td>86.66</td>\n      <td>-1</td>\n      <td>10</td>\n      <td>SST2</td>\n      <td>bert-base-uncased</td>\n      <td>fc</td>\n      <td>86.70</td>\n      <td>NaN</td>\n    </tr>\n    <tr>\n      <th>5506</th>\n      <td>87.10</td>\n      <td>-1</td>\n      <td>11</td>\n      <td>SST2</td>\n      <td>bert-base-uncased</td>\n      <td>fc</td>\n      <td>86.70</td>\n      <td>NaN</td>\n    </tr>\n    <tr>\n      <th>5504</th>\n      <td>85.23</td>\n      <td>-1</td>\n      <td>9</td>\n      <td>SST2</td>\n      <td>bert-base-uncased</td>\n      <td>fc</td>\n      <td>86.01</td>\n      <td>NaN</td>\n    </tr>\n    <tr>\n      <th>5503</th>\n      <td>84.13</td>\n      <td>-1</td>\n      <td>8</td>\n      <td>SST2</td>\n      <td>bert-base-uncased</td>\n      <td>fc</td>\n      <td>83.72</td>\n      <td>NaN</td>\n    </tr>\n    <tr>\n      <th>5502</th>\n      <td>82.87</td>\n      <td>-1</td>\n      <td>7</td>\n      <td>SST2</td>\n      <td>bert-base-uncased</td>\n      <td>fc</td>\n      <td>82.91</td>\n      <td>NaN</td>\n    </tr>\n    <tr>\n      <th>5500</th>\n      <td>79.90</td>\n      <td>-1</td>\n      <td>5</td>\n      <td>SST2</td>\n      <td>bert-base-uncased</td>\n      <td>fc</td>\n      <td>81.42</td>\n      <td>NaN</td>\n    </tr>\n    <tr>\n      <th>5501</th>\n      <td>79.19</td>\n      <td>-1</td>\n      <td>6</td>\n      <td>SST2</td>\n      <td>bert-base-uncased</td>\n      <td>fc</td>\n      <td>80.73</td>\n      <td>NaN</td>\n    </tr>\n    <tr>\n      <th>5497</th>\n      <td>74.14</td>\n      <td>-1</td>\n      <td>2</td>\n      <td>SST2</td>\n      <td>bert-base-uncased</td>\n      <td>fc</td>\n      <td>75.46</td>\n      <td>NaN</td>\n    </tr>\n    <tr>\n      <th>5499</th>\n      <td>74.85</td>\n      <td>-1</td>\n      <td>4</td>\n      <td>SST2</td>\n      <td>bert-base-uncased</td>\n      <td>fc</td>\n      <td>75.34</td>\n      <td>NaN</td>\n    </tr>\n    <tr>\n      <th>5498</th>\n      <td>73.81</td>\n      <td>-1</td>\n      <td>3</td>\n      <td>SST2</td>\n      <td>bert-base-uncased</td>\n      <td>fc</td>\n      <td>74.31</td>\n      <td>NaN</td>\n    </tr>\n    <tr>\n      <th>5496</th>\n      <td>73.04</td>\n      <td>-1</td>\n      <td>1</td>\n      <td>SST2</td>\n      <td>bert-base-uncased</td>\n      <td>fc</td>\n      <td>74.20</td>\n      <td>NaN</td>\n    </tr>\n    <tr>\n      <th>5495</th>\n      <td>69.08</td>\n      <td>-1</td>\n      <td>0</td>\n      <td>SST2</td>\n      <td>bert-base-uncased</td>\n      <td>fc</td>\n      <td>70.18</td>\n      <td>NaN</td>\n    </tr>\n  </tbody>\n</table>\n</div>"
     },
     "metadata": {}
    },
    {
     "output_type": "stream",
     "name": "stdout",
     "text": "[10 11  9  8]\n"
    }
   ],
   "source": [
    "sys.path.insert(0, '../../')\n",
    "from transformer_anatomy.utils import get_results, find_top_n_layer\n",
    "\n",
    "\n",
    "\n",
    "\n",
    "a = find_top_n_layer(model_name='bert-base-uncased', task='SST2', dir_path='../../results/ds_linear_head_wise_results', n_layer=4)\n",
    "print(a)\n"
   ]
  },
  {
   "cell_type": "code",
   "execution_count": null,
   "metadata": {},
   "outputs": [],
   "source": [
    "df = get_results(dir_path=join(result_dir_path, 'linear_results'))\n",
    "df = df.loc[df['head'] == -1]\n",
    "df = pd.DataFrame(df.groupby(['task', 'model_name'])['acc'].max())\n",
    "df['best_linear_layer'] = df['acc']\n",
    "df_best_linear = df.drop(columns=['acc'])"
   ]
  }
 ],
 "metadata": {
  "language_info": {
   "codemirror_mode": {
    "name": "ipython",
    "version": 3
   },
   "file_extension": ".py",
   "mimetype": "text/x-python",
   "name": "python",
   "nbconvert_exporter": "python",
   "pygments_lexer": "ipython3",
   "version": "3.6.10-final"
  },
  "orig_nbformat": 2,
  "kernelspec": {
   "name": "env_bert",
   "display_name": "Py36 env_bert"
  }
 },
 "nbformat": 4,
 "nbformat_minor": 2
}